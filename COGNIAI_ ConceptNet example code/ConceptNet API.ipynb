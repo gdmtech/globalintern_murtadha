{
 "cells": [
  {
   "cell_type": "markdown",
   "id": "9485f73b",
   "metadata": {},
   "source": [
    "### ConceptNet is a freely-available semantic network, designed to help computers understand the meanings of words that people use.\n",
    "- ConceptNet is used to create word embeddings -- representations of word meanings as vectors, similar to word2vec, GloVe, or fastText, but better.\n",
    "- These word embeddings are free, multilingual, aligned across languages, and designed to avoid representing harmful stereotypes.\n",
    "- Much of the current development of ConceptNet involves using it as an input for machine learning about the semantics of text.\n",
    "- ConceptNet proves to be useful in retrofitting, where ConceptNet Numberbatch can be used in that context, as ConceptNet is a knowledge graph that provides lots of ways to compute with word meanings, one of which is word embeddings, ConceptNet Numberbatch is a snapshot of just the word embeddings"
   ]
  },
  {
   "cell_type": "markdown",
   "id": "e1b71c22",
   "metadata": {},
   "source": [
    "## in order to produce useful data and output(such as csv), a coded build process of ConceptNet is demonstrated on the official repository utilizing AWS, but a quick and easier way using their API is demonstrate below:"
   ]
  },
  {
   "cell_type": "markdown",
   "id": "875898ac",
   "metadata": {},
   "source": [
    "## To use ConceptNet's REST API from a programming language, all you need to do is make an HTTP request and parse the result from JSON.\n",
    "- In Python the requests library is recommended, which will make API requests a one-liner.\n",
    "- getting data from ConceptNet in JSON-LD format. This is the easiest way to start using ConceptNet."
   ]
  },
  {
   "cell_type": "code",
   "execution_count": 11,
   "id": "d1594438",
   "metadata": {},
   "outputs": [
    {
     "data": {
      "text/plain": [
       "dict_keys(['@context', '@id', 'edges', 'version', 'view'])"
      ]
     },
     "execution_count": 11,
     "metadata": {},
     "output_type": "execute_result"
    }
   ],
   "source": [
    "import requests\n",
    "obj = requests.get('http://api.conceptnet.io/c/en/example').json()\n",
    "obj.keys()"
   ]
  },
  {
   "cell_type": "markdown",
   "id": "1596d01b",
   "metadata": {},
   "source": [
    "## The actually interesting information is inside the edges list\n",
    "- This is standard JSON, but some of the properties have @ at the beginning. These are properties that are there for the benefit of JSON-LD, a standard for Linked Data APIs. By using JSON-LD, we provide information that comes with metadata about what it means and how to retrieve it, and this information can be transformed, reused, and linked to other systems."
   ]
  },
  {
   "cell_type": "code",
   "execution_count": 12,
   "id": "0f171438",
   "metadata": {},
   "outputs": [
    {
     "data": {
      "text/plain": [
       "20"
      ]
     },
     "execution_count": 12,
     "metadata": {},
     "output_type": "execute_result"
    }
   ],
   "source": [
    "len(obj['edges'])"
   ]
  },
  {
   "cell_type": "markdown",
   "id": "dccae04e",
   "metadata": {},
   "source": [
    "### Here we have 20 edge nodes for 'example' \n",
    "- Inside the \"edges\" list, you'll find objects representing the edges of the graph -- units of knowledge that link this node to other nodes. Here's one:"
   ]
  },
  {
   "cell_type": "code",
   "execution_count": 13,
   "id": "9fc68fa6",
   "metadata": {},
   "outputs": [
    {
     "data": {
      "text/plain": [
       "{'@id': '/a/[/r/Synonym/,/c/ja/例/n/wn/cognition/,/c/en/example/n/wn/cognition/]',\n",
       " '@type': 'Edge',\n",
       " 'dataset': '/d/wordnet/3.1',\n",
       " 'end': {'@id': '/c/en/example/n/wn/cognition',\n",
       "  '@type': 'Node',\n",
       "  'label': 'example',\n",
       "  'language': 'en',\n",
       "  'sense_label': 'n, cognition',\n",
       "  'term': '/c/en/example'},\n",
       " 'license': 'cc:by/4.0',\n",
       " 'rel': {'@id': '/r/Synonym', '@type': 'Relation', 'label': 'Synonym'},\n",
       " 'sources': [{'@id': '/s/resource/wordnet/rdf/3.1',\n",
       "   '@type': 'Source',\n",
       "   'contributor': '/s/resource/wordnet/rdf/3.1'}],\n",
       " 'start': {'@id': '/c/ja/例/n/wn/cognition',\n",
       "  '@type': 'Node',\n",
       "  'label': '例',\n",
       "  'language': 'ja',\n",
       "  'sense_label': 'n, cognition',\n",
       "  'term': '/c/ja/例'},\n",
       " 'surfaceText': '[[例]] is a translation of [[example]]',\n",
       " 'weight': 2.0}"
      ]
     },
     "execution_count": 13,
     "metadata": {},
     "output_type": "execute_result"
    }
   ],
   "source": [
    "obj['edges'][2]"
   ]
  },
  {
   "cell_type": "markdown",
   "id": "e249adc3",
   "metadata": {},
   "source": [
    "### The @id of this edge is /a/[/r/Synonym/,/c/ja/例/n/wn/cognition/,/c/en/example/n/wn/cognition/]. \n",
    "- This complex-looking URI uniquely describes this edge in terms of the nodes it connects and how it connects them. You don't have to pull information out of this URI -- you'll find it in a more convenient form in the start, end, and rel properties.\n",
    "\n",
    "### start and end\n",
    "  'start': {'@id': '/c/ja/例/n/wn/cognition',\n",
    "  '@type': 'Node',\n",
    "  'label': '例',\n",
    "  'language': 'ja',\n",
    "  'sense_label': 'n, cognition',\n",
    "  'term': '/c/ja/例'}\n",
    "  \n",
    "- start and end point to nodes of ConceptNet. They contain an @id where you can look up all the information about that node. They also provide:\n",
    "\n",
    "- A human-readable label, which may be a more complete phrase such as \"an example\" instead of just the word \"example\" that appears in the URI.\n",
    "- language, the language code for what language the label is in (this is always the same as the language code that appears in its URI).\n",
    "- term, a link to the most general version of this term. In many cases this is just the same URI. If you've looked up a particular sense, such as the noun sense of \"example\" at /c/en/example/n, this links to the more general /c/en/example."
   ]
  },
  {
   "cell_type": "markdown",
   "id": "34c4d117",
   "metadata": {},
   "source": [
    "### 'rel': {'@id': '/r/Synonym', '@type': 'Relation', 'label': 'Synonym'}\n",
    "- rel describes one of the 40-ish defined relations that connect the nodes of ConceptNet. Relations are labeled with artificial names such as \"UsedFor\", which stay the same even as they describe information in different languages or from different data sources."
   ]
  },
  {
   "cell_type": "markdown",
   "id": "1063580d",
   "metadata": {},
   "source": [
    "### surfaceText\n",
    " 'surfaceText': '[[例]] is a translation of [[example]]'\n",
    "- Some of ConceptNet's data is extracted from natural-language text. The surfaceText value shows you what this text was.\n",
    "### sources\n",
    "'sources': [{'@id': '/s/resource/wordnet/rdf/3.1',\n",
    "   '@type': 'Source',\n",
    "   'contributor': '/s/resource/wordnet/rdf/3.1'}]\n",
    " -  sources tells you why ConceptNet believes this information. Each edge comes from one or more sources. Each of these sources is an object with its own @id, but this ID just contains the information in the rest of the object.\n",
    " ### weight\n",
    " The weight value says how believable the information is. A typical weight is 1.0, and the number is higher when the information comes from more sources or more reliable sources."
   ]
  },
  {
   "cell_type": "markdown",
   "id": "c2760b70",
   "metadata": {},
   "source": [
    "## Here's an example in Python of using the API to get all external Linked Data items that are connected to the ConceptNet term \"apple\":"
   ]
  },
  {
   "cell_type": "code",
   "execution_count": 14,
   "id": "01cfaeb9",
   "metadata": {
    "scrolled": true
   },
   "outputs": [
    {
     "data": {
      "text/plain": [
       "['http://wikidata.dbpedia.org/resource/Q89',\n",
       " 'http://dbpedia.org/resource/Apple',\n",
       " 'http://wordnet-rdf.princeton.edu/wn31/112654755-n',\n",
       " 'http://wordnet-rdf.princeton.edu/wn31/107755101-n',\n",
       " 'http://sw.opencyc.org/2012/05/10/concept/en/Apple',\n",
       " 'http://fr.wiktionary.org/wiki/apple',\n",
       " 'http://en.wiktionary.org/wiki/apple',\n",
       " 'http://en.wiktionary.org/wiki/Apple']"
      ]
     },
     "execution_count": 14,
     "metadata": {},
     "output_type": "execute_result"
    }
   ],
   "source": [
    "response = requests.get('http://api.conceptnet.io/query?start=/c/en/apple&rel=/r/ExternalURL&limit=1000')\n",
    "obj2 = response.json()\n",
    "[edge['end']['@id'] for edge in obj2['edges']]"
   ]
  },
  {
   "cell_type": "markdown",
   "id": "8f95c71b",
   "metadata": {},
   "source": [
    "### terms related to \"tea kettle\":"
   ]
  },
  {
   "cell_type": "code",
   "execution_count": 15,
   "id": "8d19d8c6",
   "metadata": {},
   "outputs": [],
   "source": [
    "obj3 = requests.get('http://api.conceptnet.io/related/c/en/tea_kettle').json()"
   ]
  },
  {
   "cell_type": "code",
   "execution_count": 22,
   "id": "53e62591",
   "metadata": {
    "scrolled": true
   },
   "outputs": [
    {
     "data": {
      "text/plain": [
       "{'@id': '/c/en/tea_kettle',\n",
       " 'related': [{'@id': '/c/en/tea_kettle', 'weight': 1.0},\n",
       "  {'@id': '/c/ja/ティーケトル', 'weight': 1.0},\n",
       "  {'@id': '/c/en/teakettle', 'weight': 0.868},\n",
       "  {'@id': '/c/ja/茶釜', 'weight': 0.849},\n",
       "  {'@id': '/c/ja/湯沸し', 'weight': 0.807},\n",
       "  {'@id': '/c/es/tetera', 'weight': 0.807},\n",
       "  {'@id': '/c/es/teteras', 'weight': 0.807},\n",
       "  {'@id': '/c/ja/湯沸かし', 'weight': 0.806},\n",
       "  {'@id': '/c/de/teekessel', 'weight': 0.805},\n",
       "  {'@id': '/c/pt/chaleira', 'weight': 0.798},\n",
       "  {'@id': '/c/pt/chaleiras', 'weight': 0.798},\n",
       "  {'@id': '/c/ru/чайник', 'weight': 0.779},\n",
       "  {'@id': '/c/ru/чайника', 'weight': 0.779},\n",
       "  {'@id': '/c/ru/чайникам', 'weight': 0.779},\n",
       "  {'@id': '/c/ru/чайниками', 'weight': 0.779},\n",
       "  {'@id': '/c/ru/чайниках', 'weight': 0.779},\n",
       "  {'@id': '/c/ru/чайнике', 'weight': 0.779},\n",
       "  {'@id': '/c/ru/чайники', 'weight': 0.779},\n",
       "  {'@id': '/c/ru/чайников', 'weight': 0.779},\n",
       "  {'@id': '/c/ru/чайником', 'weight': 0.779},\n",
       "  {'@id': '/c/ru/чайнику', 'weight': 0.779},\n",
       "  {'@id': '/c/es/hervidor', 'weight': 0.766},\n",
       "  {'@id': '/c/es/hervidores', 'weight': 0.766},\n",
       "  {'@id': '/c/it/teiera', 'weight': 0.765},\n",
       "  {'@id': '/c/it/teiere', 'weight': 0.765},\n",
       "  {'@id': '/c/fr/bouilloire', 'weight': 0.763},\n",
       "  {'@id': '/c/fr/bouilloires', 'weight': 0.763},\n",
       "  {'@id': '/c/nl/waterkoker', 'weight': 0.758},\n",
       "  {'@id': '/c/fr/théière', 'weight': 0.75},\n",
       "  {'@id': '/c/en/teapot', 'weight': 0.738},\n",
       "  {'@id': '/c/de/teekanne', 'weight': 0.737},\n",
       "  {'@id': '/c/de/teekannen', 'weight': 0.737},\n",
       "  {'@id': '/c/fr/thépot', 'weight': 0.737},\n",
       "  {'@id': '/c/de/wasserkessel', 'weight': 0.735},\n",
       "  {'@id': '/c/de/wasserkocher', 'weight': 0.729},\n",
       "  {'@id': '/c/nl/theepot', 'weight': 0.72},\n",
       "  {'@id': '/c/it/bollitore', 'weight': 0.717},\n",
       "  {'@id': '/c/it/bollitori', 'weight': 0.717},\n",
       "  {'@id': '/c/zh/壺', 'weight': 0.717},\n",
       "  {'@id': '/c/pt/bule', 'weight': 0.717},\n",
       "  {'@id': '/c/pt/bules', 'weight': 0.717},\n",
       "  {'@id': '/c/ja/湯釜', 'weight': 0.712},\n",
       "  {'@id': '/c/en/teapots', 'weight': 0.711},\n",
       "  {'@id': '/c/ja/急須', 'weight': 0.711},\n",
       "  {'@id': '/c/en/kettle', 'weight': 0.709},\n",
       "  {'@id': '/c/ja/湯沸', 'weight': 0.709},\n",
       "  {'@id': '/c/ja/鼓索', 'weight': 0.709},\n",
       "  {'@id': '/c/zh/燒水壺', 'weight': 0.709},\n",
       "  {'@id': '/c/fr/théières', 'weight': 0.705},\n",
       "  {'@id': '/c/ja/ケトル', 'weight': 0.701}]}"
      ]
     },
     "execution_count": 22,
     "metadata": {},
     "output_type": "execute_result"
    }
   ],
   "source": [
    "obj3"
   ]
  },
  {
   "cell_type": "markdown",
   "id": "5d675e07",
   "metadata": {},
   "source": [
    "## resources:\n",
    "- https://conceptnet.io/\n",
    "- https://github-wiki-see.page/m/commonsense/conceptnet5/wiki/API\n",
    "- https://github.com/commonsense/conceptnet5\n",
    "- https://github.com/commonsense/conceptnet-numberbatch\n",
    "- https://github.com/mfaruqui/retrofitting"
   ]
  }
 ],
 "metadata": {
  "kernelspec": {
   "display_name": "Python 3",
   "language": "python",
   "name": "python3"
  },
  "language_info": {
   "codemirror_mode": {
    "name": "ipython",
    "version": 3
   },
   "file_extension": ".py",
   "mimetype": "text/x-python",
   "name": "python",
   "nbconvert_exporter": "python",
   "pygments_lexer": "ipython3",
   "version": "3.8.8"
  }
 },
 "nbformat": 4,
 "nbformat_minor": 5
}
